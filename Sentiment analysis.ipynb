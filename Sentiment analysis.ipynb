{
 "cells": [
  {
   "cell_type": "code",
   "execution_count": 5,
   "id": "48cea32d",
   "metadata": {},
   "outputs": [
    {
     "name": "stderr",
     "output_type": "stream",
     "text": [
      "No model was supplied, defaulted to distilbert-base-uncased-finetuned-sst-2-english and revision af0f99b (https://huggingface.co/distilbert-base-uncased-finetuned-sst-2-english).\n",
      "Using a pipeline without specifying a model name and revision in production is not recommended.\n"
     ]
    }
   ],
   "source": [
    "from transformers import pipeline\n",
    "\n",
    "sent_pipeline = pipeline(\"sentiment-analysis\")"
   ]
  },
  {
   "cell_type": "code",
   "execution_count": 20,
   "id": "cb08070c",
   "metadata": {
    "scrolled": true
   },
   "outputs": [
    {
     "name": "stdout",
     "output_type": "stream",
     "text": [
      "Collecting translate\n",
      "  Downloading translate-3.6.1-py2.py3-none-any.whl (12 kB)\n",
      "Collecting libretranslatepy==2.1.1\n",
      "  Downloading libretranslatepy-2.1.1-py3-none-any.whl (3.2 kB)\n",
      "Requirement already satisfied: click in /Users/mahinrahman/opt/anaconda3/lib/python3.8/site-packages (from translate) (7.1.2)\n",
      "Requirement already satisfied: lxml in /Users/mahinrahman/opt/anaconda3/lib/python3.8/site-packages (from translate) (4.6.3)\n",
      "Requirement already satisfied: requests in /Users/mahinrahman/opt/anaconda3/lib/python3.8/site-packages (from translate) (2.25.1)\n",
      "Requirement already satisfied: idna<3,>=2.5 in /Users/mahinrahman/opt/anaconda3/lib/python3.8/site-packages (from requests->translate) (2.10)\n",
      "Requirement already satisfied: certifi>=2017.4.17 in /Users/mahinrahman/opt/anaconda3/lib/python3.8/site-packages (from requests->translate) (2022.12.7)\n",
      "Requirement already satisfied: chardet<5,>=3.0.2 in /Users/mahinrahman/opt/anaconda3/lib/python3.8/site-packages (from requests->translate) (4.0.0)\n",
      "Requirement already satisfied: urllib3<1.27,>=1.21.1 in /Users/mahinrahman/opt/anaconda3/lib/python3.8/site-packages (from requests->translate) (1.26.4)\n",
      "Installing collected packages: libretranslatepy, translate\n",
      "Successfully installed libretranslatepy-2.1.1 translate-3.6.1\n",
      "\n",
      "\u001b[1m[\u001b[0m\u001b[34;49mnotice\u001b[0m\u001b[1;39;49m]\u001b[0m\u001b[39;49m A new release of pip available: \u001b[0m\u001b[31;49m22.3.1\u001b[0m\u001b[39;49m -> \u001b[0m\u001b[32;49m23.0.1\u001b[0m\n",
      "\u001b[1m[\u001b[0m\u001b[34;49mnotice\u001b[0m\u001b[1;39;49m]\u001b[0m\u001b[39;49m To update, run: \u001b[0m\u001b[32;49m/Users/mahinrahman/opt/anaconda3/bin/python -m pip install --upgrade pip\u001b[0m\n",
      "Note: you may need to restart the kernel to use updated packages.\n"
     ]
    }
   ],
   "source": [
    "pip install translate"
   ]
  },
  {
   "cell_type": "code",
   "execution_count": 5,
   "id": "f75b610b",
   "metadata": {},
   "outputs": [],
   "source": [
    "import statistics"
   ]
  },
  {
   "cell_type": "code",
   "execution_count": 6,
   "id": "9a4b6967",
   "metadata": {},
   "outputs": [],
   "source": [
    "import pandas as pd"
   ]
  },
  {
   "cell_type": "code",
   "execution_count": 7,
   "id": "01a8a79d",
   "metadata": {},
   "outputs": [
    {
     "data": {
      "text/html": [
       "<div>\n",
       "<style scoped>\n",
       "    .dataframe tbody tr th:only-of-type {\n",
       "        vertical-align: middle;\n",
       "    }\n",
       "\n",
       "    .dataframe tbody tr th {\n",
       "        vertical-align: top;\n",
       "    }\n",
       "\n",
       "    .dataframe thead th {\n",
       "        text-align: right;\n",
       "    }\n",
       "</style>\n",
       "<table border=\"1\" class=\"dataframe\">\n",
       "  <thead>\n",
       "    <tr style=\"text-align: right;\">\n",
       "      <th></th>\n",
       "      <th>Unnamed: 0</th>\n",
       "      <th>Unnamed: 1</th>\n",
       "      <th>Name</th>\n",
       "      <th>Profile ID</th>\n",
       "      <th>Date</th>\n",
       "      <th>Likes</th>\n",
       "      <th>Stars</th>\n",
       "      <th>Comment</th>\n",
       "      <th>URL</th>\n",
       "      <th>Profile Image</th>\n",
       "    </tr>\n",
       "  </thead>\n",
       "  <tbody>\n",
       "    <tr>\n",
       "      <th>0</th>\n",
       "      <td>1</td>\n",
       "      <td>NaN</td>\n",
       "      <td>Sonia Garcia</td>\n",
       "      <td>ID: 100008772873542</td>\n",
       "      <td>2023-02-24 21:22:01</td>\n",
       "      <td>1</td>\n",
       "      <td>NaN</td>\n",
       "      <td>Francisco😍</td>\n",
       "      <td>https://www.exportcomments.com/done/4f3bd42d-6...</td>\n",
       "      <td>https://scontent-sof1-1.xx.fbcdn.net/v/t39.308...</td>\n",
       "    </tr>\n",
       "    <tr>\n",
       "      <th>1</th>\n",
       "      <td>2</td>\n",
       "      <td>NaN</td>\n",
       "      <td>Stone Leach</td>\n",
       "      <td>ID: 100001310914356</td>\n",
       "      <td>2023-02-24 21:33:15</td>\n",
       "      <td>3</td>\n",
       "      <td>NaN</td>\n",
       "      <td>This ain’t it 😂</td>\n",
       "      <td>https://www.exportcomments.com/done/4f3bd42d-6...</td>\n",
       "      <td>https://scontent-sof1-1.xx.fbcdn.net/v/t39.308...</td>\n",
       "    </tr>\n",
       "    <tr>\n",
       "      <th>2</th>\n",
       "      <td>3</td>\n",
       "      <td>NaN</td>\n",
       "      <td>Ashley Velotta</td>\n",
       "      <td>ID: 100000029267175</td>\n",
       "      <td>2023-02-24 22:54:10</td>\n",
       "      <td>0</td>\n",
       "      <td>NaN</td>\n",
       "      <td>Alex Smith</td>\n",
       "      <td>https://www.exportcomments.com/done/4f3bd42d-6...</td>\n",
       "      <td>https://scontent-sof1-1.xx.fbcdn.net/v/t1.6435...</td>\n",
       "    </tr>\n",
       "    <tr>\n",
       "      <th>3</th>\n",
       "      <td>4</td>\n",
       "      <td>NaN</td>\n",
       "      <td>Joanie Ehrsam</td>\n",
       "      <td>ID: 100012146134088</td>\n",
       "      <td>2023-02-25 00:54:18</td>\n",
       "      <td>0</td>\n",
       "      <td>NaN</td>\n",
       "      <td>Nooo</td>\n",
       "      <td>https://www.exportcomments.com/done/4f3bd42d-6...</td>\n",
       "      <td>https://scontent-sof1-1.xx.fbcdn.net/v/t39.308...</td>\n",
       "    </tr>\n",
       "    <tr>\n",
       "      <th>4</th>\n",
       "      <td>5</td>\n",
       "      <td>NaN</td>\n",
       "      <td>Aurora Rose</td>\n",
       "      <td>ID: 100000166987233</td>\n",
       "      <td>2023-02-25 01:30:29</td>\n",
       "      <td>0</td>\n",
       "      <td>NaN</td>\n",
       "      <td>Make blue soles tooooo please 💙</td>\n",
       "      <td>https://www.exportcomments.com/done/4f3bd42d-6...</td>\n",
       "      <td>https://scontent-sof1-1.xx.fbcdn.net/v/t39.308...</td>\n",
       "    </tr>\n",
       "  </tbody>\n",
       "</table>\n",
       "</div>"
      ],
      "text/plain": [
       "   Unnamed: 0  Unnamed: 1            Name           Profile ID  \\\n",
       "0           1         NaN    Sonia Garcia  ID: 100008772873542   \n",
       "1           2         NaN     Stone Leach  ID: 100001310914356   \n",
       "2           3         NaN  Ashley Velotta  ID: 100000029267175   \n",
       "3           4         NaN   Joanie Ehrsam  ID: 100012146134088   \n",
       "4           5         NaN     Aurora Rose  ID: 100000166987233   \n",
       "\n",
       "                  Date  Likes  Stars                          Comment  \\\n",
       "0  2023-02-24 21:22:01      1    NaN                       Francisco😍   \n",
       "1  2023-02-24 21:33:15      3    NaN                  This ain’t it 😂   \n",
       "2  2023-02-24 22:54:10      0    NaN                       Alex Smith   \n",
       "3  2023-02-25 00:54:18      0    NaN                             Nooo   \n",
       "4  2023-02-25 01:30:29      0    NaN  Make blue soles tooooo please 💙   \n",
       "\n",
       "                                                 URL  \\\n",
       "0  https://www.exportcomments.com/done/4f3bd42d-6...   \n",
       "1  https://www.exportcomments.com/done/4f3bd42d-6...   \n",
       "2  https://www.exportcomments.com/done/4f3bd42d-6...   \n",
       "3  https://www.exportcomments.com/done/4f3bd42d-6...   \n",
       "4  https://www.exportcomments.com/done/4f3bd42d-6...   \n",
       "\n",
       "                                       Profile Image  \n",
       "0  https://scontent-sof1-1.xx.fbcdn.net/v/t39.308...  \n",
       "1  https://scontent-sof1-1.xx.fbcdn.net/v/t39.308...  \n",
       "2  https://scontent-sof1-1.xx.fbcdn.net/v/t1.6435...  \n",
       "3  https://scontent-sof1-1.xx.fbcdn.net/v/t39.308...  \n",
       "4  https://scontent-sof1-1.xx.fbcdn.net/v/t39.308...  "
      ]
     },
     "execution_count": 7,
     "metadata": {},
     "output_type": "execute_result"
    }
   ],
   "source": [
    "df = pd.read_csv(\"vans.csv\")\n",
    "df.head()"
   ]
  },
  {
   "cell_type": "code",
   "execution_count": 8,
   "id": "decd65b6",
   "metadata": {},
   "outputs": [
    {
     "name": "stdout",
     "output_type": "stream",
     "text": [
      "['Francisco😍', 'This ain’t it 😂', 'Alex Smith', 'Nooo', 'Make blue soles tooooo please 💙', '👎🏽', '\\U0001fae3', 'Not it', 'Dom Paraan 👀👀👀👀👀', 'Cameron Burke these kinda cute']\n"
     ]
    }
   ],
   "source": [
    "lst = []\n",
    "\n",
    "for i in df[\"Comment\"]:\n",
    "    if i.startswith(\"\\r[PHOTO]\"):\n",
    "        pass\n",
    "    elif \"\\r[PHOTO]\" in i:\n",
    "        pass\n",
    "    else:\n",
    "        \n",
    "        lst.append(i)\n",
    "print(lst)"
   ]
  },
  {
   "cell_type": "code",
   "execution_count": 9,
   "id": "f37e178f",
   "metadata": {},
   "outputs": [],
   "source": [
    "from nltk.sentiment.vader import SentimentIntensityAnalyzer as sia"
   ]
  },
  {
   "cell_type": "code",
   "execution_count": 10,
   "id": "dd7b16ae",
   "metadata": {},
   "outputs": [
    {
     "name": "stderr",
     "output_type": "stream",
     "text": [
      "[nltk_data] Downloading package vader_lexicon to\n",
      "[nltk_data]     /Users/mahinrahman/nltk_data...\n",
      "[nltk_data]   Package vader_lexicon is already up-to-date!\n"
     ]
    },
    {
     "data": {
      "text/plain": [
       "True"
      ]
     },
     "execution_count": 10,
     "metadata": {},
     "output_type": "execute_result"
    }
   ],
   "source": [
    "from tqdm.notebook import tqdm\n",
    "import nltk\n",
    "nltk.download('vader_lexicon')"
   ]
  },
  {
   "cell_type": "code",
   "execution_count": null,
   "id": "74e92a37",
   "metadata": {},
   "outputs": [],
   "source": []
  },
  {
   "cell_type": "code",
   "execution_count": null,
   "id": "90ca23fc",
   "metadata": {},
   "outputs": [],
   "source": [
    "from nltk.sentiment.vader import SentimentIntensityAnalyzer as SIA\n",
    "\n",
    "sid = SIA()\n",
    "\n",
    "st = input(\"Please enter a text: \")\n",
    "\n",
    "\n",
    "ss = sid.polarity_scores(st) \n",
    "if ss[\"compound\"]<0:\n",
    "    print(\"Its a negative text\")\n",
    "else:\n",
    "    print(\"its a positive tex\")\n",
    "print(ss)\n",
    "\n"
   ]
  },
  {
   "cell_type": "code",
   "execution_count": null,
   "id": "488e3e2f",
   "metadata": {},
   "outputs": [],
   "source": []
  },
  {
   "cell_type": "code",
   "execution_count": null,
   "id": "e7ba8d24",
   "metadata": {},
   "outputs": [],
   "source": []
  }
 ],
 "metadata": {
  "kernelspec": {
   "display_name": "Python 3",
   "language": "python",
   "name": "python3"
  },
  "language_info": {
   "codemirror_mode": {
    "name": "ipython",
    "version": 3
   },
   "file_extension": ".py",
   "mimetype": "text/x-python",
   "name": "python",
   "nbconvert_exporter": "python",
   "pygments_lexer": "ipython3",
   "version": "3.8.8"
  }
 },
 "nbformat": 4,
 "nbformat_minor": 5
}
